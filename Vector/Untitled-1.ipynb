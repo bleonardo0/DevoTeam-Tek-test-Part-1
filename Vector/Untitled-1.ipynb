{
 "cells": [
  {
   "cell_type": "code",
   "execution_count": 43,
   "metadata": {},
   "outputs": [],
   "source": [
    "import polars as pl\n",
    "import chromadb"
   ]
  },
  {
   "cell_type": "code",
   "execution_count": 44,
   "metadata": {},
   "outputs": [],
   "source": [
    "chroma_client = chromadb.Client()"
   ]
  },
  {
   "cell_type": "code",
   "execution_count": 45,
   "metadata": {},
   "outputs": [
    {
     "data": {
      "text/html": [
       "<div><style>\n",
       ".dataframe > thead > tr,\n",
       ".dataframe > tbody > tr {\n",
       "  text-align: right;\n",
       "  white-space: pre-wrap;\n",
       "}\n",
       "</style>\n",
       "<small>shape: (5, 3)</small><table border=\"1\" class=\"dataframe\"><thead><tr><th>content</th><th>type</th><th>source</th></tr><tr><td>str</td><td>str</td><td>str</td></tr></thead><tbody><tr><td>&quot;Ce programme de formation en g…</td><td>&quot;programme de formation&quot;</td><td>&quot;https://fakeurl.com/doc/gestio…</td></tr><tr><td>&quot;Ce programme de formation en l…</td><td>&quot;programme de formation&quot;</td><td>&quot;https://fakeurl.com/doc/leader…</td></tr><tr><td>&quot;La formation en gestion du str…</td><td>&quot;programme de formation&quot;</td><td>&quot;https://fakeurl.com/doc/gestio…</td></tr><tr><td>&quot;Ce document présente un ensemb…</td><td>&quot;meilleures pratiques&quot;</td><td>&quot;https://fakeurl.com/doc/comm-p…</td></tr><tr><td>&quot;Ce guide rassemble les meilleu…</td><td>&quot;meilleures pratiques&quot;</td><td>&quot;https://fakeurl.com/doc/gestio…</td></tr></tbody></table></div>"
      ],
      "text/plain": [
       "shape: (5, 3)\n",
       "┌─────────────────────────────────┬────────────────────────┬─────────────────────────────────┐\n",
       "│ content                         ┆ type                   ┆ source                          │\n",
       "│ ---                             ┆ ---                    ┆ ---                             │\n",
       "│ str                             ┆ str                    ┆ str                             │\n",
       "╞═════════════════════════════════╪════════════════════════╪═════════════════════════════════╡\n",
       "│ Ce programme de formation en g… ┆ programme de formation ┆ https://fakeurl.com/doc/gestio… │\n",
       "│ Ce programme de formation en l… ┆ programme de formation ┆ https://fakeurl.com/doc/leader… │\n",
       "│ La formation en gestion du str… ┆ programme de formation ┆ https://fakeurl.com/doc/gestio… │\n",
       "│ Ce document présente un ensemb… ┆ meilleures pratiques   ┆ https://fakeurl.com/doc/comm-p… │\n",
       "│ Ce guide rassemble les meilleu… ┆ meilleures pratiques   ┆ https://fakeurl.com/doc/gestio… │\n",
       "└─────────────────────────────────┴────────────────────────┴─────────────────────────────────┘"
      ]
     },
     "execution_count": 45,
     "metadata": {},
     "output_type": "execute_result"
    }
   ],
   "source": [
    "fomartion_df = pl.read_json('data/formation.json')\n",
    "\n",
    "fomartion_df.head()"
   ]
  },
  {
   "cell_type": "code",
   "execution_count": 46,
   "metadata": {},
   "outputs": [],
   "source": [
    "import chromadb.utils.embedding_functions as embedding_functions\n",
    "openai_ef = embedding_functions.OpenAIEmbeddingFunction(\n",
    "                api_key=\"sk-nVlz54w48WaH_XxoJVGBt7f3kqOQB8EChd5E_A7QEFT3BlbkFJLX88AsxreLbuxKBZeHjZ-zvEXZimhXS5NBiuIWBFoA\",\n",
    "                model_name=\"text-embedding-3-small\"\n",
    "            )\n"
   ]
  },
  {
   "cell_type": "code",
   "execution_count": 47,
   "metadata": {},
   "outputs": [
    {
     "data": {
      "text/plain": [
       "[array([-0.03470815,  0.06153752,  0.10532701, ..., -0.00496571,\n",
       "         0.00301675,  0.0292552 ], dtype=float32),\n",
       " array([-0.02355875,  0.04577728,  0.0871988 , ...,  0.00864868,\n",
       "         0.00698386,  0.01381067], dtype=float32),\n",
       " array([-0.04234637,  0.04030075,  0.06006099, ..., -0.00190195,\n",
       "        -0.00326877,  0.02109937], dtype=float32),\n",
       " array([-0.00041906,  0.0314941 ,  0.03389789, ..., -0.00746733,\n",
       "        -0.01780585,  0.02312535], dtype=float32),\n",
       " array([-0.01713973,  0.05606166,  0.04871291, ...,  0.00525028,\n",
       "         0.00198983, -0.00932344], dtype=float32),\n",
       " array([ 0.02032573,  0.05000961,  0.0257509 , ..., -0.00466309,\n",
       "        -0.02946005,  0.01048262], dtype=float32),\n",
       " array([ 0.02222621,  0.0083822 ,  0.01496981, ..., -0.00599684,\n",
       "        -0.02253831,  0.03442052], dtype=float32),\n",
       " array([-0.00866148,  0.05307905,  0.05529941, ...,  0.01102846,\n",
       "        -0.01554248,  0.03412225], dtype=float32),\n",
       " array([ 0.02650894,  0.04395441,  0.04093326, ...,  0.00927359,\n",
       "        -0.00179594,  0.03545883], dtype=float32),\n",
       " array([-0.01574057,  0.05105391,  0.06549596, ...,  0.00579582,\n",
       "         0.00032199,  0.03179784], dtype=float32),\n",
       " array([-0.00934435,  0.03297736,  0.0668714 , ..., -0.02621689,\n",
       "        -0.01620222,  0.00389587], dtype=float32),\n",
       " array([ 0.03447229,  0.04038182,  0.05819251, ...,  0.00558636,\n",
       "        -0.00278035,  0.01362476], dtype=float32),\n",
       " array([-0.02253762,  0.03991706,  0.05316567, ..., -0.02356498,\n",
       "        -0.01473614,  0.03550799], dtype=float32),\n",
       " array([ 0.01358909,  0.05939837,  0.03093757, ...,  0.00254726,\n",
       "        -0.01733742,  0.01766914], dtype=float32),\n",
       " array([ 0.0165985 ,  0.07333636,  0.0499007 , ..., -0.01008743,\n",
       "        -0.00219841, -0.00705279], dtype=float32),\n",
       " array([-0.03585308,  0.02897548,  0.06242751, ..., -0.01148642,\n",
       "        -0.03137654,  0.02901617], dtype=float32),\n",
       " array([ 0.00812886,  0.01724069,  0.02387852, ...,  0.00367234,\n",
       "        -0.01927291,  0.04457619], dtype=float32),\n",
       " array([ 0.03724063,  0.06699105,  0.04233229, ..., -0.03101282,\n",
       "        -0.01994583, -0.00470768], dtype=float32),\n",
       " array([-0.03995831,  0.01660806,  0.05542206, ..., -0.00522675,\n",
       "        -0.02226779,  0.01454623], dtype=float32),\n",
       " array([ 0.02632017,  0.02929646,  0.04961962, ...,  0.00019938,\n",
       "        -0.00165889,  0.0277861 ], dtype=float32),\n",
       " array([ 0.01870858,  0.06604504, -0.01460692, ...,  0.00065494,\n",
       "        -0.01346641,  0.00146357], dtype=float32),\n",
       " array([-0.00955955,  0.05625761,  0.03887486, ...,  0.02606448,\n",
       "        -0.01334092,  0.03791022], dtype=float32),\n",
       " array([-0.00491573,  0.06445362,  0.02585639, ...,  0.00128163,\n",
       "        -0.01303229,  0.0088478 ], dtype=float32),\n",
       " array([-0.03895782,  0.02695716,  0.02149873, ..., -0.02155784,\n",
       "        -0.01311403,  0.0239028 ], dtype=float32),\n",
       " array([ 0.00477283,  0.05956572,  0.04784019, ...,  0.01710862,\n",
       "        -0.00324051, -0.02229984], dtype=float32),\n",
       " array([-0.02577516,  0.02044893,  0.03612328, ...,  0.00204133,\n",
       "        -0.02735401,  0.00959198], dtype=float32),\n",
       " array([ 0.00282602,  0.06366131,  0.08605032, ...,  0.00107999,\n",
       "        -0.00113725,  0.01512852], dtype=float32),\n",
       " array([-0.01754258,  0.08332971,  0.07594953, ...,  0.00885915,\n",
       "         0.00489816,  0.01097266], dtype=float32),\n",
       " array([-0.03053004,  0.05982697,  0.05463941, ...,  0.01194839,\n",
       "        -0.01074185,  0.01207595], dtype=float32),\n",
       " array([0.01490406, 0.02550416, 0.05130661, ..., 0.00392843, 0.00449838,\n",
       "        0.02835926], dtype=float32),\n",
       " array([-0.01974232,  0.01862541, -0.00385229, ...,  0.02366182,\n",
       "        -0.01938036, -0.00055037], dtype=float32),\n",
       " array([-0.01734689,  0.03561895,  0.0190665 , ..., -0.00754213,\n",
       "         0.0156474 ,  0.03119424], dtype=float32),\n",
       " array([ 0.0398748 ,  0.05864407,  0.06763273, ...,  0.00562286,\n",
       "        -0.01741305,  0.0133543 ], dtype=float32),\n",
       " array([ 0.00127225,  0.0149612 ,  0.01131239, ...,  0.0214538 ,\n",
       "        -0.00902795,  0.02670225], dtype=float32),\n",
       " array([-0.01914223,  0.07467425,  0.02815215, ...,  0.01271686,\n",
       "        -0.00679606,  0.01763886], dtype=float32),\n",
       " array([-0.00879846,  0.04347243,  0.02214818, ...,  0.01074059,\n",
       "        -0.00472537, -0.00226828], dtype=float32),\n",
       " array([ 0.01153488,  0.01455515,  0.0373143 , ..., -0.05607856,\n",
       "        -0.03243046,  0.01709346], dtype=float32),\n",
       " array([ 0.00425744,  0.03837356,  0.05996542, ..., -0.02655303,\n",
       "        -0.00085809,  0.02666089], dtype=float32),\n",
       " array([-0.02533428,  0.08910543,  0.0573263 , ..., -0.02535363,\n",
       "        -0.00806091, -0.00496428], dtype=float32),\n",
       " array([-0.02000111,  0.05138116,  0.03724547, ..., -0.01333407,\n",
       "        -0.01496662,  0.00403981], dtype=float32),\n",
       " array([-0.0282184 ,  0.05183427,  0.03326777, ...,  0.02614056,\n",
       "        -0.01630992,  0.01219893], dtype=float32),\n",
       " array([ 0.02494218,  0.02410058,  0.00789963, ..., -0.02130797,\n",
       "        -0.00641247,  0.02695056], dtype=float32),\n",
       " array([ 0.01148363,  0.04233102,  0.05064675, ..., -0.02080912,\n",
       "        -0.02249207,  0.01871039], dtype=float32),\n",
       " array([-0.01416103,  0.06146665,  0.04516   , ..., -0.00220308,\n",
       "        -0.01531558,  0.00591576], dtype=float32),\n",
       " array([1.4784752e-02, 4.4473577e-02, 1.8169083e-02, ..., 5.6185178e-05,\n",
       "        8.8784443e-03, 1.1769227e-02], dtype=float32),\n",
       " array([ 0.0003751 ,  0.04793429,  0.07615177, ..., -0.00698058,\n",
       "         0.01052744, -0.01383325], dtype=float32),\n",
       " array([ 0.00259135,  0.03237949,  0.06764154, ..., -0.01453128,\n",
       "         0.00810968,  0.03547923], dtype=float32),\n",
       " array([-0.01226744,  0.02991007,  0.02700709, ...,  0.00783337,\n",
       "        -0.01711823,  0.02805591], dtype=float32),\n",
       " array([ 0.00556473,  0.01753998,  0.03906532, ..., -0.02117498,\n",
       "         0.01426629,  0.04462731], dtype=float32),\n",
       " array([-0.0137463 ,  0.083733  ,  0.06887323, ..., -0.00812327,\n",
       "         0.00594188, -0.00187012], dtype=float32),\n",
       " array([-0.00179118,  0.04952209,  0.02574574, ..., -0.00475681,\n",
       "        -0.01034958,  0.004585  ], dtype=float32),\n",
       " array([-0.00813845,  0.0445654 ,  0.04400672, ...,  0.01821079,\n",
       "         0.00249794,  0.01214053], dtype=float32),\n",
       " array([-0.00435483,  0.01562434,  0.03255823, ..., -0.00623732,\n",
       "        -0.03127125,  0.04149932], dtype=float32),\n",
       " array([ 0.00053929,  0.03430095,  0.04181897, ..., -0.04305773,\n",
       "        -0.00749132, -0.00590549], dtype=float32),\n",
       " array([-0.00842692,  0.06820022,  0.02668525, ...,  0.00861797,\n",
       "         0.00500607,  0.01353884], dtype=float32),\n",
       " array([-0.00063043,  0.0488689 ,  0.03726767, ..., -0.01412681,\n",
       "        -0.03958791,  0.01883917], dtype=float32),\n",
       " array([ 0.00776558,  0.00990873,  0.04429533, ...,  0.00574001,\n",
       "        -0.01274132,  0.04925504], dtype=float32),\n",
       " array([-0.00010076,  0.00753765,  0.01016612, ...,  0.01801059,\n",
       "        -0.02186635, -0.00985418], dtype=float32),\n",
       " array([-0.00744112,  0.02875072,  0.01737614, ...,  0.01265194,\n",
       "        -0.01436522,  0.01109072], dtype=float32),\n",
       " array([ 0.03162437,  0.04095747,  0.04109766, ...,  0.01114564,\n",
       "        -0.00694474,  0.02471468], dtype=float32)]"
      ]
     },
     "execution_count": 47,
     "metadata": {},
     "output_type": "execute_result"
    }
   ],
   "source": [
    "openai_ef(fomartion_df['content'])"
   ]
  },
  {
   "cell_type": "code",
   "execution_count": 49,
   "metadata": {},
   "outputs": [
    {
     "ename": "TypeError",
     "evalue": "expected string or bytes-like object, got 'DataFrame'",
     "output_type": "error",
     "traceback": [
      "\u001b[0;31m---------------------------------------------------------------------------\u001b[0m",
      "\u001b[0;31mTypeError\u001b[0m                                 Traceback (most recent call last)",
      "Cell \u001b[0;32mIn[49], line 1\u001b[0m\n\u001b[0;32m----> 1\u001b[0m collection \u001b[38;5;241m=\u001b[39m \u001b[43mchroma_client\u001b[49m\u001b[38;5;241;43m.\u001b[39;49m\u001b[43mget_or_create_collection\u001b[49m\u001b[43m(\u001b[49m\u001b[43mname\u001b[49m\u001b[38;5;241;43m=\u001b[39;49m\u001b[43mfomartion_df\u001b[49m\u001b[43m)\u001b[49m\n",
      "File \u001b[0;32m/Library/Frameworks/Python.framework/Versions/3.13/lib/python3.13/site-packages/chromadb/api/client.py:194\u001b[0m, in \u001b[0;36mClient.get_or_create_collection\u001b[0;34m(self, name, configuration, metadata, embedding_function, data_loader)\u001b[0m\n\u001b[1;32m    183\u001b[0m \u001b[38;5;129m@override\u001b[39m\n\u001b[1;32m    184\u001b[0m \u001b[38;5;28;01mdef\u001b[39;00m\u001b[38;5;250m \u001b[39m\u001b[38;5;21mget_or_create_collection\u001b[39m(\n\u001b[1;32m    185\u001b[0m     \u001b[38;5;28mself\u001b[39m,\n\u001b[0;32m   (...)\u001b[0m\n\u001b[1;32m    192\u001b[0m     data_loader: Optional[DataLoader[Loadable]] \u001b[38;5;241m=\u001b[39m \u001b[38;5;28;01mNone\u001b[39;00m,\n\u001b[1;32m    193\u001b[0m ) \u001b[38;5;241m-\u001b[39m\u001b[38;5;241m>\u001b[39m Collection:\n\u001b[0;32m--> 194\u001b[0m     model \u001b[38;5;241m=\u001b[39m \u001b[38;5;28;43mself\u001b[39;49m\u001b[38;5;241;43m.\u001b[39;49m\u001b[43m_server\u001b[49m\u001b[38;5;241;43m.\u001b[39;49m\u001b[43mget_or_create_collection\u001b[49m\u001b[43m(\u001b[49m\n\u001b[1;32m    195\u001b[0m \u001b[43m        \u001b[49m\u001b[43mname\u001b[49m\u001b[38;5;241;43m=\u001b[39;49m\u001b[43mname\u001b[49m\u001b[43m,\u001b[49m\n\u001b[1;32m    196\u001b[0m \u001b[43m        \u001b[49m\u001b[43mmetadata\u001b[49m\u001b[38;5;241;43m=\u001b[39;49m\u001b[43mmetadata\u001b[49m\u001b[43m,\u001b[49m\n\u001b[1;32m    197\u001b[0m \u001b[43m        \u001b[49m\u001b[43mtenant\u001b[49m\u001b[38;5;241;43m=\u001b[39;49m\u001b[38;5;28;43mself\u001b[39;49m\u001b[38;5;241;43m.\u001b[39;49m\u001b[43mtenant\u001b[49m\u001b[43m,\u001b[49m\n\u001b[1;32m    198\u001b[0m \u001b[43m        \u001b[49m\u001b[43mdatabase\u001b[49m\u001b[38;5;241;43m=\u001b[39;49m\u001b[38;5;28;43mself\u001b[39;49m\u001b[38;5;241;43m.\u001b[39;49m\u001b[43mdatabase\u001b[49m\u001b[43m,\u001b[49m\n\u001b[1;32m    199\u001b[0m \u001b[43m        \u001b[49m\u001b[43mconfiguration\u001b[49m\u001b[38;5;241;43m=\u001b[39;49m\u001b[43mconfiguration\u001b[49m\u001b[43m,\u001b[49m\n\u001b[1;32m    200\u001b[0m \u001b[43m    \u001b[49m\u001b[43m)\u001b[49m\n\u001b[1;32m    201\u001b[0m     \u001b[38;5;28;01mreturn\u001b[39;00m Collection(\n\u001b[1;32m    202\u001b[0m         client\u001b[38;5;241m=\u001b[39m\u001b[38;5;28mself\u001b[39m\u001b[38;5;241m.\u001b[39m_server,\n\u001b[1;32m    203\u001b[0m         model\u001b[38;5;241m=\u001b[39mmodel,\n\u001b[1;32m    204\u001b[0m         embedding_function\u001b[38;5;241m=\u001b[39membedding_function,\n\u001b[1;32m    205\u001b[0m         data_loader\u001b[38;5;241m=\u001b[39mdata_loader,\n\u001b[1;32m    206\u001b[0m     )\n",
      "File \u001b[0;32m/Library/Frameworks/Python.framework/Versions/3.13/lib/python3.13/site-packages/chromadb/telemetry/opentelemetry/__init__.py:150\u001b[0m, in \u001b[0;36mtrace_method.<locals>.decorator.<locals>.wrapper\u001b[0;34m(*args, **kwargs)\u001b[0m\n\u001b[1;32m    148\u001b[0m \u001b[38;5;28;01mglobal\u001b[39;00m tracer, granularity\n\u001b[1;32m    149\u001b[0m \u001b[38;5;28;01mif\u001b[39;00m trace_granularity \u001b[38;5;241m<\u001b[39m granularity:\n\u001b[0;32m--> 150\u001b[0m     \u001b[38;5;28;01mreturn\u001b[39;00m \u001b[43mf\u001b[49m\u001b[43m(\u001b[49m\u001b[38;5;241;43m*\u001b[39;49m\u001b[43margs\u001b[49m\u001b[43m,\u001b[49m\u001b[43m \u001b[49m\u001b[38;5;241;43m*\u001b[39;49m\u001b[38;5;241;43m*\u001b[39;49m\u001b[43mkwargs\u001b[49m\u001b[43m)\u001b[49m\n\u001b[1;32m    151\u001b[0m \u001b[38;5;28;01mif\u001b[39;00m \u001b[38;5;129;01mnot\u001b[39;00m tracer:\n\u001b[1;32m    152\u001b[0m     \u001b[38;5;28;01mreturn\u001b[39;00m f(\u001b[38;5;241m*\u001b[39margs, \u001b[38;5;241m*\u001b[39m\u001b[38;5;241m*\u001b[39mkwargs)\n",
      "File \u001b[0;32m/Library/Frameworks/Python.framework/Versions/3.13/lib/python3.13/site-packages/chromadb/api/segment.py:103\u001b[0m, in \u001b[0;36mrate_limit.<locals>.wrapper\u001b[0;34m(*args, **kwargs)\u001b[0m\n\u001b[1;32m    100\u001b[0m \u001b[38;5;129m@wraps\u001b[39m(func)\n\u001b[1;32m    101\u001b[0m \u001b[38;5;28;01mdef\u001b[39;00m\u001b[38;5;250m \u001b[39m\u001b[38;5;21mwrapper\u001b[39m(\u001b[38;5;241m*\u001b[39margs: Any, \u001b[38;5;241m*\u001b[39m\u001b[38;5;241m*\u001b[39mkwargs: Any) \u001b[38;5;241m-\u001b[39m\u001b[38;5;241m>\u001b[39m Any:\n\u001b[1;32m    102\u001b[0m     \u001b[38;5;28mself\u001b[39m \u001b[38;5;241m=\u001b[39m args[\u001b[38;5;241m0\u001b[39m]\n\u001b[0;32m--> 103\u001b[0m     \u001b[38;5;28;01mreturn\u001b[39;00m \u001b[38;5;28;43mself\u001b[39;49m\u001b[38;5;241;43m.\u001b[39;49m\u001b[43m_rate_limit_enforcer\u001b[49m\u001b[38;5;241;43m.\u001b[39;49m\u001b[43mrate_limit\u001b[49m\u001b[43m(\u001b[49m\u001b[43mfunc\u001b[49m\u001b[43m)\u001b[49m\u001b[43m(\u001b[49m\u001b[38;5;241;43m*\u001b[39;49m\u001b[43margs\u001b[49m\u001b[43m,\u001b[49m\u001b[43m \u001b[49m\u001b[38;5;241;43m*\u001b[39;49m\u001b[38;5;241;43m*\u001b[39;49m\u001b[43mkwargs\u001b[49m\u001b[43m)\u001b[49m\n",
      "File \u001b[0;32m/Library/Frameworks/Python.framework/Versions/3.13/lib/python3.13/site-packages/chromadb/rate_limit/simple_rate_limit/__init__.py:24\u001b[0m, in \u001b[0;36mSimpleRateLimitEnforcer.rate_limit.<locals>.wrapper\u001b[0;34m(*args, **kwargs)\u001b[0m\n\u001b[1;32m     22\u001b[0m \u001b[38;5;129m@wraps\u001b[39m(func)\n\u001b[1;32m     23\u001b[0m \u001b[38;5;28;01mdef\u001b[39;00m\u001b[38;5;250m \u001b[39m\u001b[38;5;21mwrapper\u001b[39m(\u001b[38;5;241m*\u001b[39margs: Any, \u001b[38;5;241m*\u001b[39m\u001b[38;5;241m*\u001b[39mkwargs: Any) \u001b[38;5;241m-\u001b[39m\u001b[38;5;241m>\u001b[39m Any:\n\u001b[0;32m---> 24\u001b[0m     \u001b[38;5;28;01mreturn\u001b[39;00m \u001b[43mfunc\u001b[49m\u001b[43m(\u001b[49m\u001b[38;5;241;43m*\u001b[39;49m\u001b[43margs\u001b[49m\u001b[43m,\u001b[49m\u001b[43m \u001b[49m\u001b[38;5;241;43m*\u001b[39;49m\u001b[38;5;241;43m*\u001b[39;49m\u001b[43mkwargs\u001b[49m\u001b[43m)\u001b[49m\n",
      "File \u001b[0;32m/Library/Frameworks/Python.framework/Versions/3.13/lib/python3.13/site-packages/chromadb/api/segment.py:288\u001b[0m, in \u001b[0;36mSegmentAPI.get_or_create_collection\u001b[0;34m(self, name, configuration, metadata, tenant, database)\u001b[0m\n\u001b[1;32m    275\u001b[0m \u001b[38;5;129m@trace_method\u001b[39m(\n\u001b[1;32m    276\u001b[0m     \u001b[38;5;124m\"\u001b[39m\u001b[38;5;124mSegmentAPI.get_or_create_collection\u001b[39m\u001b[38;5;124m\"\u001b[39m, OpenTelemetryGranularity\u001b[38;5;241m.\u001b[39mOPERATION\n\u001b[1;32m    277\u001b[0m )\n\u001b[0;32m   (...)\u001b[0m\n\u001b[1;32m    286\u001b[0m     database: \u001b[38;5;28mstr\u001b[39m \u001b[38;5;241m=\u001b[39m DEFAULT_DATABASE,\n\u001b[1;32m    287\u001b[0m ) \u001b[38;5;241m-\u001b[39m\u001b[38;5;241m>\u001b[39m CollectionModel:\n\u001b[0;32m--> 288\u001b[0m     \u001b[38;5;28;01mreturn\u001b[39;00m \u001b[38;5;28;43mself\u001b[39;49m\u001b[38;5;241;43m.\u001b[39;49m\u001b[43mcreate_collection\u001b[49m\u001b[43m(\u001b[49m\n\u001b[1;32m    289\u001b[0m \u001b[43m        \u001b[49m\u001b[43mname\u001b[49m\u001b[38;5;241;43m=\u001b[39;49m\u001b[43mname\u001b[49m\u001b[43m,\u001b[49m\n\u001b[1;32m    290\u001b[0m \u001b[43m        \u001b[49m\u001b[43mmetadata\u001b[49m\u001b[38;5;241;43m=\u001b[39;49m\u001b[43mmetadata\u001b[49m\u001b[43m,\u001b[49m\n\u001b[1;32m    291\u001b[0m \u001b[43m        \u001b[49m\u001b[43mconfiguration\u001b[49m\u001b[38;5;241;43m=\u001b[39;49m\u001b[43mconfiguration\u001b[49m\u001b[43m,\u001b[49m\n\u001b[1;32m    292\u001b[0m \u001b[43m        \u001b[49m\u001b[43mget_or_create\u001b[49m\u001b[38;5;241;43m=\u001b[39;49m\u001b[38;5;28;43;01mTrue\u001b[39;49;00m\u001b[43m,\u001b[49m\n\u001b[1;32m    293\u001b[0m \u001b[43m        \u001b[49m\u001b[43mtenant\u001b[49m\u001b[38;5;241;43m=\u001b[39;49m\u001b[43mtenant\u001b[49m\u001b[43m,\u001b[49m\n\u001b[1;32m    294\u001b[0m \u001b[43m        \u001b[49m\u001b[43mdatabase\u001b[49m\u001b[38;5;241;43m=\u001b[39;49m\u001b[43mdatabase\u001b[49m\u001b[43m,\u001b[49m\n\u001b[1;32m    295\u001b[0m \u001b[43m    \u001b[49m\u001b[43m)\u001b[49m\n",
      "File \u001b[0;32m/Library/Frameworks/Python.framework/Versions/3.13/lib/python3.13/site-packages/chromadb/telemetry/opentelemetry/__init__.py:150\u001b[0m, in \u001b[0;36mtrace_method.<locals>.decorator.<locals>.wrapper\u001b[0;34m(*args, **kwargs)\u001b[0m\n\u001b[1;32m    148\u001b[0m \u001b[38;5;28;01mglobal\u001b[39;00m tracer, granularity\n\u001b[1;32m    149\u001b[0m \u001b[38;5;28;01mif\u001b[39;00m trace_granularity \u001b[38;5;241m<\u001b[39m granularity:\n\u001b[0;32m--> 150\u001b[0m     \u001b[38;5;28;01mreturn\u001b[39;00m \u001b[43mf\u001b[49m\u001b[43m(\u001b[49m\u001b[38;5;241;43m*\u001b[39;49m\u001b[43margs\u001b[49m\u001b[43m,\u001b[49m\u001b[43m \u001b[49m\u001b[38;5;241;43m*\u001b[39;49m\u001b[38;5;241;43m*\u001b[39;49m\u001b[43mkwargs\u001b[49m\u001b[43m)\u001b[49m\n\u001b[1;32m    151\u001b[0m \u001b[38;5;28;01mif\u001b[39;00m \u001b[38;5;129;01mnot\u001b[39;00m tracer:\n\u001b[1;32m    152\u001b[0m     \u001b[38;5;28;01mreturn\u001b[39;00m f(\u001b[38;5;241m*\u001b[39margs, \u001b[38;5;241m*\u001b[39m\u001b[38;5;241m*\u001b[39mkwargs)\n",
      "File \u001b[0;32m/Library/Frameworks/Python.framework/Versions/3.13/lib/python3.13/site-packages/chromadb/api/segment.py:103\u001b[0m, in \u001b[0;36mrate_limit.<locals>.wrapper\u001b[0;34m(*args, **kwargs)\u001b[0m\n\u001b[1;32m    100\u001b[0m \u001b[38;5;129m@wraps\u001b[39m(func)\n\u001b[1;32m    101\u001b[0m \u001b[38;5;28;01mdef\u001b[39;00m\u001b[38;5;250m \u001b[39m\u001b[38;5;21mwrapper\u001b[39m(\u001b[38;5;241m*\u001b[39margs: Any, \u001b[38;5;241m*\u001b[39m\u001b[38;5;241m*\u001b[39mkwargs: Any) \u001b[38;5;241m-\u001b[39m\u001b[38;5;241m>\u001b[39m Any:\n\u001b[1;32m    102\u001b[0m     \u001b[38;5;28mself\u001b[39m \u001b[38;5;241m=\u001b[39m args[\u001b[38;5;241m0\u001b[39m]\n\u001b[0;32m--> 103\u001b[0m     \u001b[38;5;28;01mreturn\u001b[39;00m \u001b[38;5;28;43mself\u001b[39;49m\u001b[38;5;241;43m.\u001b[39;49m\u001b[43m_rate_limit_enforcer\u001b[49m\u001b[38;5;241;43m.\u001b[39;49m\u001b[43mrate_limit\u001b[49m\u001b[43m(\u001b[49m\u001b[43mfunc\u001b[49m\u001b[43m)\u001b[49m\u001b[43m(\u001b[49m\u001b[38;5;241;43m*\u001b[39;49m\u001b[43margs\u001b[49m\u001b[43m,\u001b[49m\u001b[43m \u001b[49m\u001b[38;5;241;43m*\u001b[39;49m\u001b[38;5;241;43m*\u001b[39;49m\u001b[43mkwargs\u001b[49m\u001b[43m)\u001b[49m\n",
      "File \u001b[0;32m/Library/Frameworks/Python.framework/Versions/3.13/lib/python3.13/site-packages/chromadb/rate_limit/simple_rate_limit/__init__.py:24\u001b[0m, in \u001b[0;36mSimpleRateLimitEnforcer.rate_limit.<locals>.wrapper\u001b[0;34m(*args, **kwargs)\u001b[0m\n\u001b[1;32m     22\u001b[0m \u001b[38;5;129m@wraps\u001b[39m(func)\n\u001b[1;32m     23\u001b[0m \u001b[38;5;28;01mdef\u001b[39;00m\u001b[38;5;250m \u001b[39m\u001b[38;5;21mwrapper\u001b[39m(\u001b[38;5;241m*\u001b[39margs: Any, \u001b[38;5;241m*\u001b[39m\u001b[38;5;241m*\u001b[39mkwargs: Any) \u001b[38;5;241m-\u001b[39m\u001b[38;5;241m>\u001b[39m Any:\n\u001b[0;32m---> 24\u001b[0m     \u001b[38;5;28;01mreturn\u001b[39;00m \u001b[43mfunc\u001b[49m\u001b[43m(\u001b[49m\u001b[38;5;241;43m*\u001b[39;49m\u001b[43margs\u001b[49m\u001b[43m,\u001b[49m\u001b[43m \u001b[49m\u001b[38;5;241;43m*\u001b[39;49m\u001b[38;5;241;43m*\u001b[39;49m\u001b[43mkwargs\u001b[49m\u001b[43m)\u001b[49m\n",
      "File \u001b[0;32m/Library/Frameworks/Python.framework/Versions/3.13/lib/python3.13/site-packages/chromadb/api/segment.py:218\u001b[0m, in \u001b[0;36mSegmentAPI.create_collection\u001b[0;34m(self, name, configuration, metadata, get_or_create, tenant, database)\u001b[0m\n\u001b[1;32m    215\u001b[0m     validate_metadata(metadata)\n\u001b[1;32m    217\u001b[0m \u001b[38;5;66;03m# TODO: remove backwards compatibility in naming requirements\u001b[39;00m\n\u001b[0;32m--> 218\u001b[0m \u001b[43mcheck_index_name\u001b[49m\u001b[43m(\u001b[49m\u001b[43mname\u001b[49m\u001b[43m)\u001b[49m\n\u001b[1;32m    220\u001b[0m \u001b[38;5;28mself\u001b[39m\u001b[38;5;241m.\u001b[39m_quota_enforcer\u001b[38;5;241m.\u001b[39menforce(\n\u001b[1;32m    221\u001b[0m     action\u001b[38;5;241m=\u001b[39mAction\u001b[38;5;241m.\u001b[39mCREATE_COLLECTION,\n\u001b[1;32m    222\u001b[0m     tenant\u001b[38;5;241m=\u001b[39mtenant,\n\u001b[1;32m    223\u001b[0m     name\u001b[38;5;241m=\u001b[39mname,\n\u001b[1;32m    224\u001b[0m     metadata\u001b[38;5;241m=\u001b[39mmetadata,\n\u001b[1;32m    225\u001b[0m )\n\u001b[1;32m    227\u001b[0m \u001b[38;5;28mid\u001b[39m \u001b[38;5;241m=\u001b[39m uuid4()\n",
      "File \u001b[0;32m/Library/Frameworks/Python.framework/Versions/3.13/lib/python3.13/site-packages/chromadb/api/segment.py:91\u001b[0m, in \u001b[0;36mcheck_index_name\u001b[0;34m(index_name)\u001b[0m\n\u001b[1;32m     89\u001b[0m \u001b[38;5;28;01mif\u001b[39;00m \u001b[38;5;28mlen\u001b[39m(index_name) \u001b[38;5;241m<\u001b[39m \u001b[38;5;241m3\u001b[39m \u001b[38;5;129;01mor\u001b[39;00m \u001b[38;5;28mlen\u001b[39m(index_name) \u001b[38;5;241m>\u001b[39m \u001b[38;5;241m63\u001b[39m:\n\u001b[1;32m     90\u001b[0m     \u001b[38;5;28;01mraise\u001b[39;00m \u001b[38;5;167;01mValueError\u001b[39;00m(msg)\n\u001b[0;32m---> 91\u001b[0m \u001b[38;5;28;01mif\u001b[39;00m \u001b[38;5;129;01mnot\u001b[39;00m \u001b[43mre\u001b[49m\u001b[38;5;241;43m.\u001b[39;49m\u001b[43mmatch\u001b[49m\u001b[43m(\u001b[49m\u001b[38;5;124;43m\"\u001b[39;49m\u001b[38;5;124;43m^[a-zA-Z0-9][a-zA-Z0-9._-]*[a-zA-Z0-9]$\u001b[39;49m\u001b[38;5;124;43m\"\u001b[39;49m\u001b[43m,\u001b[49m\u001b[43m \u001b[49m\u001b[43mindex_name\u001b[49m\u001b[43m)\u001b[49m:\n\u001b[1;32m     92\u001b[0m     \u001b[38;5;28;01mraise\u001b[39;00m \u001b[38;5;167;01mValueError\u001b[39;00m(msg)\n\u001b[1;32m     93\u001b[0m \u001b[38;5;28;01mif\u001b[39;00m \u001b[38;5;124m\"\u001b[39m\u001b[38;5;124m..\u001b[39m\u001b[38;5;124m\"\u001b[39m \u001b[38;5;129;01min\u001b[39;00m index_name:\n",
      "File \u001b[0;32m/Library/Frameworks/Python.framework/Versions/3.13/lib/python3.13/re/__init__.py:167\u001b[0m, in \u001b[0;36mmatch\u001b[0;34m(pattern, string, flags)\u001b[0m\n\u001b[1;32m    164\u001b[0m \u001b[38;5;28;01mdef\u001b[39;00m\u001b[38;5;250m \u001b[39m\u001b[38;5;21mmatch\u001b[39m(pattern, string, flags\u001b[38;5;241m=\u001b[39m\u001b[38;5;241m0\u001b[39m):\n\u001b[1;32m    165\u001b[0m \u001b[38;5;250m    \u001b[39m\u001b[38;5;124;03m\"\"\"Try to apply the pattern at the start of the string, returning\u001b[39;00m\n\u001b[1;32m    166\u001b[0m \u001b[38;5;124;03m    a Match object, or None if no match was found.\"\"\"\u001b[39;00m\n\u001b[0;32m--> 167\u001b[0m     \u001b[38;5;28;01mreturn\u001b[39;00m \u001b[43m_compile\u001b[49m\u001b[43m(\u001b[49m\u001b[43mpattern\u001b[49m\u001b[43m,\u001b[49m\u001b[43m \u001b[49m\u001b[43mflags\u001b[49m\u001b[43m)\u001b[49m\u001b[38;5;241;43m.\u001b[39;49m\u001b[43mmatch\u001b[49m\u001b[43m(\u001b[49m\u001b[43mstring\u001b[49m\u001b[43m)\u001b[49m\n",
      "\u001b[0;31mTypeError\u001b[0m: expected string or bytes-like object, got 'DataFrame'"
     ]
    }
   ],
   "source": [
    "collection = chroma_client.get_or_create_collection(name=fomartion_df)"
   ]
  },
  {
   "cell_type": "code",
   "execution_count": null,
   "metadata": {},
   "outputs": [
    {
     "ename": "NameError",
     "evalue": "name 'collection' is not defined",
     "output_type": "error",
     "traceback": [
      "\u001b[0;31m---------------------------------------------------------------------------\u001b[0m",
      "\u001b[0;31mNameError\u001b[0m                                 Traceback (most recent call last)",
      "Cell \u001b[0;32mIn[42], line 1\u001b[0m\n\u001b[0;32m----> 1\u001b[0m \u001b[43mcollection\u001b[49m\u001b[38;5;241m.\u001b[39madd(\n\u001b[1;32m      2\u001b[0m     document \u001b[38;5;241m=\u001b[39m [fomartion_df[\u001b[38;5;124m'\u001b[39m\u001b[38;5;124mcontent\u001b[39m\u001b[38;5;124m'\u001b[39m]],\n\u001b[1;32m      3\u001b[0m     ids \u001b[38;5;241m=\u001b[39m [\u001b[38;5;124m\"\u001b[39m\u001b[38;5;124mid1\u001b[39m\u001b[38;5;124m\"\u001b[39m],\n\u001b[1;32m      4\u001b[0m     embedding\u001b[38;5;241m=\u001b[39mvectors,\n\u001b[1;32m      5\u001b[0m )\n",
      "\u001b[0;31mNameError\u001b[0m: name 'collection' is not defined"
     ]
    }
   ],
   "source": [
    "collection.add(\n",
    "    document = [fomartion_df['content']],\n",
    "    ids = [\"id1\"],\n",
    "    embedding=vectors,\n",
    ")"
   ]
  },
  {
   "cell_type": "code",
   "execution_count": null,
   "metadata": {},
   "outputs": [],
   "source": [
    "fomartion_df['content']"
   ]
  }
 ],
 "metadata": {
  "kernelspec": {
   "display_name": "Python 3",
   "language": "python",
   "name": "python3"
  },
  "language_info": {
   "codemirror_mode": {
    "name": "ipython",
    "version": 3
   },
   "file_extension": ".py",
   "mimetype": "text/x-python",
   "name": "python",
   "nbconvert_exporter": "python",
   "pygments_lexer": "ipython3",
   "version": "3.13.2"
  }
 },
 "nbformat": 4,
 "nbformat_minor": 2
}
